{
 "cells": [
  {
   "cell_type": "markdown",
   "id": "db625751",
   "metadata": {
    "papermill": {
     "duration": 0.037289,
     "end_time": "2022-03-20T23:28:50.920145",
     "exception": false,
     "start_time": "2022-03-20T23:28:50.882856",
     "status": "completed"
    },
    "tags": []
   },
   "source": [
    "# TED Talks EDA - By Mauricio Sandoval"
   ]
  },
  {
   "cell_type": "code",
   "execution_count": 1,
   "id": "d9a376df",
   "metadata": {
    "execution": {
     "iopub.execute_input": "2022-03-20T23:28:51.006695Z",
     "iopub.status.busy": "2022-03-20T23:28:51.006155Z",
     "iopub.status.idle": "2022-03-20T23:28:51.822519Z",
     "shell.execute_reply": "2022-03-20T23:28:51.823052Z",
     "shell.execute_reply.started": "2022-03-20T23:25:11.246815Z"
    },
    "papermill": {
     "duration": 0.865591,
     "end_time": "2022-03-20T23:28:51.823360",
     "exception": false,
     "start_time": "2022-03-20T23:28:50.957769",
     "status": "completed"
    },
    "tags": []
   },
   "outputs": [],
   "source": [
    "import pandas as pd\n",
    "import matplotlib.pyplot as plt\n",
    "import seaborn as sns"
   ]
  },
  {
   "cell_type": "markdown",
   "id": "6a7bb361",
   "metadata": {
    "papermill": {
     "duration": 0.037662,
     "end_time": "2022-03-20T23:28:51.898781",
     "exception": false,
     "start_time": "2022-03-20T23:28:51.861119",
     "status": "completed"
    },
    "tags": []
   },
   "source": [
    "## First steps - A wide analysis"
   ]
  },
  {
   "cell_type": "markdown",
   "id": "0a37443d",
   "metadata": {
    "papermill": {
     "duration": 0.037964,
     "end_time": "2022-03-20T23:28:51.975142",
     "exception": false,
     "start_time": "2022-03-20T23:28:51.937178",
     "status": "completed"
    },
    "tags": []
   },
   "source": [
    "The first step is to look into null values and duplicates, so we can clean our dataset"
   ]
  },
  {
   "cell_type": "code",
   "execution_count": 2,
   "id": "dcebe456",
   "metadata": {
    "execution": {
     "iopub.execute_input": "2022-03-20T23:28:52.056313Z",
     "iopub.status.busy": "2022-03-20T23:28:52.055792Z",
     "iopub.status.idle": "2022-03-20T23:28:52.063953Z",
     "shell.execute_reply": "2022-03-20T23:28:52.064419Z",
     "shell.execute_reply.started": "2022-03-20T23:25:12.261039Z"
    },
    "papermill": {
     "duration": 0.050929,
     "end_time": "2022-03-20T23:28:52.064558",
     "exception": false,
     "start_time": "2022-03-20T23:28:52.013629",
     "status": "completed"
    },
    "tags": []
   },
   "outputs": [
    {
     "name": "stdout",
     "output_type": "stream",
     "text": [
      "/kaggle/input/ted-talks/data.csv\n"
     ]
    }
   ],
   "source": [
    "# This Python 3 environment comes with many helpful analytics libraries installed\n",
    "# It is defined by the kaggle/python Docker image: https://github.com/kaggle/docker-python\n",
    "# For example, here's several helpful packages to load\n",
    "\n",
    "import numpy as np # linear algebra\n",
    "import pandas as pd # data processing, CSV file I/O (e.g. pd.read_csv)\n",
    "\n",
    "# Input data files are available in the read-only \"../input/\" directory\n",
    "# For example, running this (by clicking run or pressing Shift+Enter) will list all files under the input directory\n",
    "\n",
    "import os\n",
    "for dirname, _, filenames in os.walk('/kaggle/input'):\n",
    "    for filename in filenames:\n",
    "        print(os.path.join(dirname, filename))\n",
    "\n",
    "# You can write up to 20GB to the current directory (/kaggle/working/) that gets preserved as output when you create a version using \"Save & Run All\" \n",
    "# You can also write temporary files to /kaggle/temp/, but they won't be saved outside of the current session"
   ]
  },
  {
   "cell_type": "code",
   "execution_count": 3,
   "id": "a4d6ed5b",
   "metadata": {
    "execution": {
     "iopub.execute_input": "2022-03-20T23:28:52.144244Z",
     "iopub.status.busy": "2022-03-20T23:28:52.143712Z",
     "iopub.status.idle": "2022-03-20T23:28:52.220869Z",
     "shell.execute_reply": "2022-03-20T23:28:52.221328Z",
     "shell.execute_reply.started": "2022-03-20T23:25:12.272662Z"
    },
    "papermill": {
     "duration": 0.118779,
     "end_time": "2022-03-20T23:28:52.221476",
     "exception": false,
     "start_time": "2022-03-20T23:28:52.102697",
     "status": "completed"
    },
    "tags": []
   },
   "outputs": [
    {
     "data": {
      "text/plain": [
       "(title     0\n",
       " author    1\n",
       " date      0\n",
       " views     0\n",
       " likes     0\n",
       " link      0\n",
       " dtype: int64,\n",
       " 0)"
      ]
     },
     "execution_count": 3,
     "metadata": {},
     "output_type": "execute_result"
    }
   ],
   "source": [
    "df = pd.read_csv('/kaggle/input/ted-talks/data.csv')\n",
    "df.isna().sum(), df.duplicated().sum()"
   ]
  },
  {
   "cell_type": "markdown",
   "id": "b437692b",
   "metadata": {
    "papermill": {
     "duration": 0.038253,
     "end_time": "2022-03-20T23:28:52.298116",
     "exception": false,
     "start_time": "2022-03-20T23:28:52.259863",
     "status": "completed"
    },
    "tags": []
   },
   "source": [
    "Once we realize that there is only 1 missing value on the authors columns, we just drop it. From now we will be working with 5439 rows. Lets display the first 5 values to have a better understanding of the data"
   ]
  },
  {
   "cell_type": "code",
   "execution_count": 4,
   "id": "43b52e03",
   "metadata": {
    "execution": {
     "iopub.execute_input": "2022-03-20T23:28:52.378533Z",
     "iopub.status.busy": "2022-03-20T23:28:52.377785Z",
     "iopub.status.idle": "2022-03-20T23:28:52.397517Z",
     "shell.execute_reply": "2022-03-20T23:28:52.397908Z",
     "shell.execute_reply.started": "2022-03-20T23:25:12.323686Z"
    },
    "papermill": {
     "duration": 0.061381,
     "end_time": "2022-03-20T23:28:52.398067",
     "exception": false,
     "start_time": "2022-03-20T23:28:52.336686",
     "status": "completed"
    },
    "tags": []
   },
   "outputs": [
    {
     "name": "stdout",
     "output_type": "stream",
     "text": [
      "<class 'pandas.core.frame.DataFrame'>\n",
      "Int64Index: 5439 entries, 0 to 5439\n",
      "Data columns (total 6 columns):\n",
      " #   Column  Non-Null Count  Dtype \n",
      "---  ------  --------------  ----- \n",
      " 0   title   5439 non-null   object\n",
      " 1   author  5439 non-null   object\n",
      " 2   date    5439 non-null   object\n",
      " 3   views   5439 non-null   int64 \n",
      " 4   likes   5439 non-null   int64 \n",
      " 5   link    5439 non-null   object\n",
      "dtypes: int64(2), object(4)\n",
      "memory usage: 297.4+ KB\n"
     ]
    }
   ],
   "source": [
    "df.dropna(inplace=True)\n",
    "df.info()"
   ]
  },
  {
   "cell_type": "code",
   "execution_count": 5,
   "id": "383c83ec",
   "metadata": {
    "execution": {
     "iopub.execute_input": "2022-03-20T23:28:52.478570Z",
     "iopub.status.busy": "2022-03-20T23:28:52.477843Z",
     "iopub.status.idle": "2022-03-20T23:28:52.491965Z",
     "shell.execute_reply": "2022-03-20T23:28:52.492568Z",
     "shell.execute_reply.started": "2022-03-20T23:25:12.351121Z"
    },
    "papermill": {
     "duration": 0.055357,
     "end_time": "2022-03-20T23:28:52.492718",
     "exception": false,
     "start_time": "2022-03-20T23:28:52.437361",
     "status": "completed"
    },
    "tags": []
   },
   "outputs": [
    {
     "data": {
      "text/html": [
       "<div>\n",
       "<style scoped>\n",
       "    .dataframe tbody tr th:only-of-type {\n",
       "        vertical-align: middle;\n",
       "    }\n",
       "\n",
       "    .dataframe tbody tr th {\n",
       "        vertical-align: top;\n",
       "    }\n",
       "\n",
       "    .dataframe thead th {\n",
       "        text-align: right;\n",
       "    }\n",
       "</style>\n",
       "<table border=\"1\" class=\"dataframe\">\n",
       "  <thead>\n",
       "    <tr style=\"text-align: right;\">\n",
       "      <th></th>\n",
       "      <th>title</th>\n",
       "      <th>author</th>\n",
       "      <th>date</th>\n",
       "      <th>views</th>\n",
       "      <th>likes</th>\n",
       "      <th>link</th>\n",
       "    </tr>\n",
       "  </thead>\n",
       "  <tbody>\n",
       "    <tr>\n",
       "      <th>0</th>\n",
       "      <td>Climate action needs new frontline leadership</td>\n",
       "      <td>Ozawa Bineshi Albert</td>\n",
       "      <td>December 2021</td>\n",
       "      <td>404000</td>\n",
       "      <td>12000</td>\n",
       "      <td>https://ted.com/talks/ozawa_bineshi_albert_cli...</td>\n",
       "    </tr>\n",
       "    <tr>\n",
       "      <th>1</th>\n",
       "      <td>The dark history of the overthrow of Hawaii</td>\n",
       "      <td>Sydney Iaukea</td>\n",
       "      <td>February 2022</td>\n",
       "      <td>214000</td>\n",
       "      <td>6400</td>\n",
       "      <td>https://ted.com/talks/sydney_iaukea_the_dark_h...</td>\n",
       "    </tr>\n",
       "    <tr>\n",
       "      <th>2</th>\n",
       "      <td>How play can spark new ideas for your business</td>\n",
       "      <td>Martin Reeves</td>\n",
       "      <td>September 2021</td>\n",
       "      <td>412000</td>\n",
       "      <td>12000</td>\n",
       "      <td>https://ted.com/talks/martin_reeves_how_play_c...</td>\n",
       "    </tr>\n",
       "    <tr>\n",
       "      <th>3</th>\n",
       "      <td>Why is China appointing judges to combat clima...</td>\n",
       "      <td>James K. Thornton</td>\n",
       "      <td>October 2021</td>\n",
       "      <td>427000</td>\n",
       "      <td>12000</td>\n",
       "      <td>https://ted.com/talks/james_k_thornton_why_is_...</td>\n",
       "    </tr>\n",
       "    <tr>\n",
       "      <th>4</th>\n",
       "      <td>Cement's carbon problem — and 2 ways to fix it</td>\n",
       "      <td>Mahendra Singhi</td>\n",
       "      <td>October 2021</td>\n",
       "      <td>2400</td>\n",
       "      <td>72</td>\n",
       "      <td>https://ted.com/talks/mahendra_singhi_cement_s...</td>\n",
       "    </tr>\n",
       "  </tbody>\n",
       "</table>\n",
       "</div>"
      ],
      "text/plain": [
       "                                               title                author  \\\n",
       "0      Climate action needs new frontline leadership  Ozawa Bineshi Albert   \n",
       "1        The dark history of the overthrow of Hawaii         Sydney Iaukea   \n",
       "2     How play can spark new ideas for your business         Martin Reeves   \n",
       "3  Why is China appointing judges to combat clima...     James K. Thornton   \n",
       "4     Cement's carbon problem — and 2 ways to fix it       Mahendra Singhi   \n",
       "\n",
       "             date   views  likes  \\\n",
       "0   December 2021  404000  12000   \n",
       "1   February 2022  214000   6400   \n",
       "2  September 2021  412000  12000   \n",
       "3    October 2021  427000  12000   \n",
       "4    October 2021    2400     72   \n",
       "\n",
       "                                                link  \n",
       "0  https://ted.com/talks/ozawa_bineshi_albert_cli...  \n",
       "1  https://ted.com/talks/sydney_iaukea_the_dark_h...  \n",
       "2  https://ted.com/talks/martin_reeves_how_play_c...  \n",
       "3  https://ted.com/talks/james_k_thornton_why_is_...  \n",
       "4  https://ted.com/talks/mahendra_singhi_cement_s...  "
      ]
     },
     "execution_count": 5,
     "metadata": {},
     "output_type": "execute_result"
    }
   ],
   "source": [
    "df.head(5)"
   ]
  },
  {
   "cell_type": "markdown",
   "id": "090cd5ff",
   "metadata": {
    "papermill": {
     "duration": 0.041552,
     "end_time": "2022-03-20T23:28:52.576754",
     "exception": false,
     "start_time": "2022-03-20T23:28:52.535202",
     "status": "completed"
    },
    "tags": []
   },
   "source": [
    "The probability of finding more than 1 talk by author, let check the total numbers of talks presenters on our dataset"
   ]
  },
  {
   "cell_type": "code",
   "execution_count": 6,
   "id": "6b8f1847",
   "metadata": {
    "execution": {
     "iopub.execute_input": "2022-03-20T23:28:52.661549Z",
     "iopub.status.busy": "2022-03-20T23:28:52.661012Z",
     "iopub.status.idle": "2022-03-20T23:28:52.667055Z",
     "shell.execute_reply": "2022-03-20T23:28:52.667526Z",
     "shell.execute_reply.started": "2022-03-20T23:25:12.368942Z"
    },
    "papermill": {
     "duration": 0.048397,
     "end_time": "2022-03-20T23:28:52.667653",
     "exception": false,
     "start_time": "2022-03-20T23:28:52.619256",
     "status": "completed"
    },
    "tags": []
   },
   "outputs": [
    {
     "data": {
      "text/plain": [
       "4443"
      ]
     },
     "execution_count": 6,
     "metadata": {},
     "output_type": "execute_result"
    }
   ],
   "source": [
    "df.author.nunique()"
   ]
  },
  {
   "cell_type": "markdown",
   "id": "6f1dee53",
   "metadata": {
    "papermill": {
     "duration": 0.03985,
     "end_time": "2022-03-20T23:28:52.746955",
     "exception": false,
     "start_time": "2022-03-20T23:28:52.707105",
     "status": "completed"
    },
    "tags": []
   },
   "source": [
    "We have 4443 different authors, so an average of 1.22 talks per author.\n",
    "\n",
    "Now lets move to more detailed analysis. We will compute the rate of likes per view for all the talks, so on the future it might help us to find talks with higher approval than the rest.\n",
    "\n",
    "After that we will take the first look into some descriptive statistics. This is the first approach for finding interesting insights"
   ]
  },
  {
   "cell_type": "code",
   "execution_count": 7,
   "id": "0ca84850",
   "metadata": {
    "execution": {
     "iopub.execute_input": "2022-03-20T23:28:52.830610Z",
     "iopub.status.busy": "2022-03-20T23:28:52.830000Z",
     "iopub.status.idle": "2022-03-20T23:28:52.834455Z",
     "shell.execute_reply": "2022-03-20T23:28:52.834920Z",
     "shell.execute_reply.started": "2022-03-20T23:25:12.377367Z"
    },
    "papermill": {
     "duration": 0.047854,
     "end_time": "2022-03-20T23:28:52.835055",
     "exception": false,
     "start_time": "2022-03-20T23:28:52.787201",
     "status": "completed"
    },
    "tags": []
   },
   "outputs": [],
   "source": [
    "df['rate_l'] = round(df.likes/df.views,4)"
   ]
  },
  {
   "cell_type": "code",
   "execution_count": 8,
   "id": "2bd84339",
   "metadata": {
    "execution": {
     "iopub.execute_input": "2022-03-20T23:28:52.925185Z",
     "iopub.status.busy": "2022-03-20T23:28:52.922532Z",
     "iopub.status.idle": "2022-03-20T23:28:52.939988Z",
     "shell.execute_reply": "2022-03-20T23:28:52.939536Z",
     "shell.execute_reply.started": "2022-03-20T23:25:12.387474Z"
    },
    "papermill": {
     "duration": 0.064312,
     "end_time": "2022-03-20T23:28:52.940110",
     "exception": false,
     "start_time": "2022-03-20T23:28:52.875798",
     "status": "completed"
    },
    "tags": []
   },
   "outputs": [
    {
     "data": {
      "text/html": [
       "<div>\n",
       "<style scoped>\n",
       "    .dataframe tbody tr th:only-of-type {\n",
       "        vertical-align: middle;\n",
       "    }\n",
       "\n",
       "    .dataframe tbody tr th {\n",
       "        vertical-align: top;\n",
       "    }\n",
       "\n",
       "    .dataframe thead th {\n",
       "        text-align: right;\n",
       "    }\n",
       "</style>\n",
       "<table border=\"1\" class=\"dataframe\">\n",
       "  <thead>\n",
       "    <tr style=\"text-align: right;\">\n",
       "      <th></th>\n",
       "      <th>title</th>\n",
       "      <th>author</th>\n",
       "      <th>date</th>\n",
       "      <th>views</th>\n",
       "      <th>likes</th>\n",
       "      <th>link</th>\n",
       "      <th>rate_l</th>\n",
       "    </tr>\n",
       "  </thead>\n",
       "  <tbody>\n",
       "    <tr>\n",
       "      <th>5436</th>\n",
       "      <td>Do schools kill creativity?</td>\n",
       "      <td>Sir Ken Robinson</td>\n",
       "      <td>February 2006</td>\n",
       "      <td>72000000</td>\n",
       "      <td>2100000</td>\n",
       "      <td>https://ted.com/talks/sir_ken_robinson_do_scho...</td>\n",
       "      <td>0.0292</td>\n",
       "    </tr>\n",
       "    <tr>\n",
       "      <th>4084</th>\n",
       "      <td>Your body language may shape who you are</td>\n",
       "      <td>Amy Cuddy</td>\n",
       "      <td>June 2012</td>\n",
       "      <td>64000000</td>\n",
       "      <td>1900000</td>\n",
       "      <td>https://ted.com/talks/amy_cuddy_your_body_lang...</td>\n",
       "      <td>0.0297</td>\n",
       "    </tr>\n",
       "    <tr>\n",
       "      <th>2958</th>\n",
       "      <td>Inside the mind of a master procrastinator</td>\n",
       "      <td>Tim Urban</td>\n",
       "      <td>February 2016</td>\n",
       "      <td>60000000</td>\n",
       "      <td>1800000</td>\n",
       "      <td>https://ted.com/talks/tim_urban_inside_the_min...</td>\n",
       "      <td>0.0300</td>\n",
       "    </tr>\n",
       "    <tr>\n",
       "      <th>4765</th>\n",
       "      <td>How great leaders inspire action</td>\n",
       "      <td>Simon Sinek</td>\n",
       "      <td>September 2009</td>\n",
       "      <td>57000000</td>\n",
       "      <td>1700000</td>\n",
       "      <td>https://ted.com/talks/simon_sinek_how_great_le...</td>\n",
       "      <td>0.0298</td>\n",
       "    </tr>\n",
       "    <tr>\n",
       "      <th>4605</th>\n",
       "      <td>The power of vulnerability</td>\n",
       "      <td>Brené Brown</td>\n",
       "      <td>June 2010</td>\n",
       "      <td>56000000</td>\n",
       "      <td>1700000</td>\n",
       "      <td>https://ted.com/talks/brene_brown_the_power_of...</td>\n",
       "      <td>0.0304</td>\n",
       "    </tr>\n",
       "  </tbody>\n",
       "</table>\n",
       "</div>"
      ],
      "text/plain": [
       "                                           title            author  \\\n",
       "5436                 Do schools kill creativity?  Sir Ken Robinson   \n",
       "4084    Your body language may shape who you are         Amy Cuddy   \n",
       "2958  Inside the mind of a master procrastinator         Tim Urban   \n",
       "4765            How great leaders inspire action       Simon Sinek   \n",
       "4605                  The power of vulnerability       Brené Brown   \n",
       "\n",
       "                date     views    likes  \\\n",
       "5436   February 2006  72000000  2100000   \n",
       "4084       June 2012  64000000  1900000   \n",
       "2958   February 2016  60000000  1800000   \n",
       "4765  September 2009  57000000  1700000   \n",
       "4605       June 2010  56000000  1700000   \n",
       "\n",
       "                                                   link  rate_l  \n",
       "5436  https://ted.com/talks/sir_ken_robinson_do_scho...  0.0292  \n",
       "4084  https://ted.com/talks/amy_cuddy_your_body_lang...  0.0297  \n",
       "2958  https://ted.com/talks/tim_urban_inside_the_min...  0.0300  \n",
       "4765  https://ted.com/talks/simon_sinek_how_great_le...  0.0298  \n",
       "4605  https://ted.com/talks/brene_brown_the_power_of...  0.0304  "
      ]
     },
     "execution_count": 8,
     "metadata": {},
     "output_type": "execute_result"
    }
   ],
   "source": [
    "df = df.sort_values(by=['views'], ascending = False)\n",
    "df.head(5)"
   ]
  },
  {
   "cell_type": "code",
   "execution_count": 9,
   "id": "5bef0017",
   "metadata": {
    "execution": {
     "iopub.execute_input": "2022-03-20T23:28:53.027485Z",
     "iopub.status.busy": "2022-03-20T23:28:53.026708Z",
     "iopub.status.idle": "2022-03-20T23:28:53.042889Z",
     "shell.execute_reply": "2022-03-20T23:28:53.043324Z",
     "shell.execute_reply.started": "2022-03-20T23:25:12.412378Z"
    },
    "papermill": {
     "duration": 0.0628,
     "end_time": "2022-03-20T23:28:53.043468",
     "exception": false,
     "start_time": "2022-03-20T23:28:52.980668",
     "status": "completed"
    },
    "tags": []
   },
   "outputs": [
    {
     "data": {
      "text/html": [
       "<div>\n",
       "<style scoped>\n",
       "    .dataframe tbody tr th:only-of-type {\n",
       "        vertical-align: middle;\n",
       "    }\n",
       "\n",
       "    .dataframe tbody tr th {\n",
       "        vertical-align: top;\n",
       "    }\n",
       "\n",
       "    .dataframe thead th {\n",
       "        text-align: right;\n",
       "    }\n",
       "</style>\n",
       "<table border=\"1\" class=\"dataframe\">\n",
       "  <thead>\n",
       "    <tr style=\"text-align: right;\">\n",
       "      <th></th>\n",
       "      <th>views</th>\n",
       "      <th>likes</th>\n",
       "      <th>rate_l</th>\n",
       "    </tr>\n",
       "  </thead>\n",
       "  <tbody>\n",
       "    <tr>\n",
       "      <th>count</th>\n",
       "      <td>5.439000e+03</td>\n",
       "      <td>5.439000e+03</td>\n",
       "      <td>5439.000000</td>\n",
       "    </tr>\n",
       "    <tr>\n",
       "      <th>mean</th>\n",
       "      <td>2.061955e+06</td>\n",
       "      <td>6.261912e+04</td>\n",
       "      <td>0.030218</td>\n",
       "    </tr>\n",
       "    <tr>\n",
       "      <th>std</th>\n",
       "      <td>3.567316e+06</td>\n",
       "      <td>1.076533e+05</td>\n",
       "      <td>0.000788</td>\n",
       "    </tr>\n",
       "    <tr>\n",
       "      <th>min</th>\n",
       "      <td>1.200000e+03</td>\n",
       "      <td>3.700000e+01</td>\n",
       "      <td>0.027500</td>\n",
       "    </tr>\n",
       "    <tr>\n",
       "      <th>25%</th>\n",
       "      <td>6.710000e+05</td>\n",
       "      <td>2.000000e+04</td>\n",
       "      <td>0.029900</td>\n",
       "    </tr>\n",
       "    <tr>\n",
       "      <th>50%</th>\n",
       "      <td>1.300000e+06</td>\n",
       "      <td>4.100000e+04</td>\n",
       "      <td>0.030000</td>\n",
       "    </tr>\n",
       "    <tr>\n",
       "      <th>75%</th>\n",
       "      <td>2.100000e+06</td>\n",
       "      <td>6.500000e+04</td>\n",
       "      <td>0.030700</td>\n",
       "    </tr>\n",
       "    <tr>\n",
       "      <th>max</th>\n",
       "      <td>7.200000e+07</td>\n",
       "      <td>2.100000e+06</td>\n",
       "      <td>0.032900</td>\n",
       "    </tr>\n",
       "  </tbody>\n",
       "</table>\n",
       "</div>"
      ],
      "text/plain": [
       "              views         likes       rate_l\n",
       "count  5.439000e+03  5.439000e+03  5439.000000\n",
       "mean   2.061955e+06  6.261912e+04     0.030218\n",
       "std    3.567316e+06  1.076533e+05     0.000788\n",
       "min    1.200000e+03  3.700000e+01     0.027500\n",
       "25%    6.710000e+05  2.000000e+04     0.029900\n",
       "50%    1.300000e+06  4.100000e+04     0.030000\n",
       "75%    2.100000e+06  6.500000e+04     0.030700\n",
       "max    7.200000e+07  2.100000e+06     0.032900"
      ]
     },
     "execution_count": 9,
     "metadata": {},
     "output_type": "execute_result"
    }
   ],
   "source": [
    "df.describe()"
   ]
  },
  {
   "cell_type": "markdown",
   "id": "b73b7c4a",
   "metadata": {
    "papermill": {
     "duration": 0.039631,
     "end_time": "2022-03-20T23:28:53.123783",
     "exception": false,
     "start_time": "2022-03-20T23:28:53.084152",
     "status": "completed"
    },
    "tags": []
   },
   "source": [
    "We can see that the range of the fourth quartile is around 35x bigger the IQR. Let's plot the data on a boxplot to see its distribution"
   ]
  },
  {
   "cell_type": "code",
   "execution_count": 10,
   "id": "56e7229f",
   "metadata": {
    "execution": {
     "iopub.execute_input": "2022-03-20T23:28:53.208569Z",
     "iopub.status.busy": "2022-03-20T23:28:53.208012Z",
     "iopub.status.idle": "2022-03-20T23:28:53.351060Z",
     "shell.execute_reply": "2022-03-20T23:28:53.351560Z",
     "shell.execute_reply.started": "2022-03-20T23:25:12.438089Z"
    },
    "papermill": {
     "duration": 0.186329,
     "end_time": "2022-03-20T23:28:53.351713",
     "exception": false,
     "start_time": "2022-03-20T23:28:53.165384",
     "status": "completed"
    },
    "tags": []
   },
   "outputs": [
    {
     "data": {
      "image/png": "[encoded data removed]",
      "text/plain": [
       "<Figure size 1224x288 with 1 Axes>"
      ]
     },
     "metadata": {
      "needs_background": "light"
     },
     "output_type": "display_data"
    }
   ],
   "source": [
    "plt.figure(figsize=(17,4))\n",
    "ax = sns.boxplot(x='views', data=df)"
   ]
  },
  {
   "cell_type": "markdown",
   "id": "90fe25df",
   "metadata": {
    "papermill": {
     "duration": 0.040786,
     "end_time": "2022-03-20T23:28:53.434790",
     "exception": false,
     "start_time": "2022-03-20T23:28:53.394004",
     "status": "completed"
    },
    "tags": []
   },
   "source": [
    "As expected, we can find a large number of talks whose views are far from the average. We can't assume that are outliers. In this case, we'll call them ***Trending Talks*** "
   ]
  },
  {
   "cell_type": "markdown",
   "id": "8bf73dae",
   "metadata": {
    "papermill": {
     "duration": 0.040574,
     "end_time": "2022-03-20T23:28:53.515960",
     "exception": false,
     "start_time": "2022-03-20T23:28:53.475386",
     "status": "completed"
    },
    "tags": []
   },
   "source": [
    "Regarding these talks, we could suppose that the rate of likes over views might be bigger than the others, so it may explain why they became so popular"
   ]
  },
  {
   "cell_type": "code",
   "execution_count": 11,
   "id": "ec0f2339",
   "metadata": {
    "execution": {
     "iopub.execute_input": "2022-03-20T23:28:53.601483Z",
     "iopub.status.busy": "2022-03-20T23:28:53.600965Z",
     "iopub.status.idle": "2022-03-20T23:28:53.610124Z",
     "shell.execute_reply": "2022-03-20T23:28:53.610591Z",
     "shell.execute_reply.started": "2022-03-20T23:25:12.652733Z"
    },
    "papermill": {
     "duration": 0.053047,
     "end_time": "2022-03-20T23:28:53.610722",
     "exception": false,
     "start_time": "2022-03-20T23:28:53.557675",
     "status": "completed"
    },
    "tags": []
   },
   "outputs": [
    {
     "data": {
      "text/html": [
       "<div>\n",
       "<style scoped>\n",
       "    .dataframe tbody tr th:only-of-type {\n",
       "        vertical-align: middle;\n",
       "    }\n",
       "\n",
       "    .dataframe tbody tr th {\n",
       "        vertical-align: top;\n",
       "    }\n",
       "\n",
       "    .dataframe thead th {\n",
       "        text-align: right;\n",
       "    }\n",
       "</style>\n",
       "<table border=\"1\" class=\"dataframe\">\n",
       "  <thead>\n",
       "    <tr style=\"text-align: right;\">\n",
       "      <th></th>\n",
       "      <th>views</th>\n",
       "      <th>likes</th>\n",
       "      <th>rate_l</th>\n",
       "    </tr>\n",
       "  </thead>\n",
       "  <tbody>\n",
       "    <tr>\n",
       "      <th>views</th>\n",
       "      <td>1.000000</td>\n",
       "      <td>0.999661</td>\n",
       "      <td>0.109775</td>\n",
       "    </tr>\n",
       "    <tr>\n",
       "      <th>likes</th>\n",
       "      <td>0.999661</td>\n",
       "      <td>1.000000</td>\n",
       "      <td>0.120181</td>\n",
       "    </tr>\n",
       "    <tr>\n",
       "      <th>rate_l</th>\n",
       "      <td>0.109775</td>\n",
       "      <td>0.120181</td>\n",
       "      <td>1.000000</td>\n",
       "    </tr>\n",
       "  </tbody>\n",
       "</table>\n",
       "</div>"
      ],
      "text/plain": [
       "           views     likes    rate_l\n",
       "views   1.000000  0.999661  0.109775\n",
       "likes   0.999661  1.000000  0.120181\n",
       "rate_l  0.109775  0.120181  1.000000"
      ]
     },
     "execution_count": 11,
     "metadata": {},
     "output_type": "execute_result"
    }
   ],
   "source": [
    "df.corr()"
   ]
  },
  {
   "cell_type": "code",
   "execution_count": 12,
   "id": "5a09af83",
   "metadata": {
    "execution": {
     "iopub.execute_input": "2022-03-20T23:28:53.716893Z",
     "iopub.status.busy": "2022-03-20T23:28:53.697109Z",
     "iopub.status.idle": "2022-03-20T23:28:53.821511Z",
     "shell.execute_reply": "2022-03-20T23:28:53.822074Z",
     "shell.execute_reply.started": "2022-03-20T23:25:12.669730Z"
    },
    "papermill": {
     "duration": 0.17112,
     "end_time": "2022-03-20T23:28:53.822228",
     "exception": false,
     "start_time": "2022-03-20T23:28:53.651108",
     "status": "completed"
    },
    "tags": []
   },
   "outputs": [
    {
     "data": {
      "image/png": "[encoded data removed]",
      "text/plain": [
       "<Figure size 1224x288 with 1 Axes>"
      ]
     },
     "metadata": {
      "needs_background": "light"
     },
     "output_type": "display_data"
    }
   ],
   "source": [
    "plt.figure(figsize=(17,4))\n",
    "ax = sns.boxplot(x=df.rate_l)"
   ]
  },
  {
   "cell_type": "markdown",
   "id": "40ddc598",
   "metadata": {
    "papermill": {
     "duration": 0.041564,
     "end_time": "2022-03-20T23:28:53.908807",
     "exception": false,
     "start_time": "2022-03-20T23:28:53.867243",
     "status": "completed"
    },
    "tags": []
   },
   "source": [
    "Using a simple correlation matrix, we see that most of the number of likes might be correlated with the number of views, but them rate is not as correlated as expected.\n",
    "\n",
    "Ploting a boxplot for the rate of likes over views, we can see a very concentrated distribution. It seems that only the 3% of viewers are willing to express are willing to express their satisfaction with the content"
   ]
  },
  {
   "cell_type": "markdown",
   "id": "5cc778f8",
   "metadata": {
    "papermill": {
     "duration": 0.041725,
     "end_time": "2022-03-20T23:28:53.992576",
     "exception": false,
     "start_time": "2022-03-20T23:28:53.950851",
     "status": "completed"
    },
    "tags": []
   },
   "source": [
    "***After this first approach to the data, where we find that there is a group of Trending talks, and that people is not very willing to share their satisfaction, let see how has the penetration of this type of content evolved over the years***"
   ]
  },
  {
   "cell_type": "markdown",
   "id": "7097aafc",
   "metadata": {
    "papermill": {
     "duration": 0.041735,
     "end_time": "2022-03-20T23:28:54.076468",
     "exception": false,
     "start_time": "2022-03-20T23:28:54.034733",
     "status": "completed"
    },
    "tags": []
   },
   "source": [
    "## An historical Overview"
   ]
  },
  {
   "cell_type": "markdown",
   "id": "7c666d9d",
   "metadata": {
    "papermill": {
     "duration": 0.043245,
     "end_time": "2022-03-20T23:28:54.162215",
     "exception": false,
     "start_time": "2022-03-20T23:28:54.118970",
     "status": "completed"
    },
    "tags": []
   },
   "source": [
    "***Let's start by a quick data preprocessing for getting more disaggregated date information***\n",
    "\n",
    "Lets compute the year and the month of the talk separately"
   ]
  },
  {
   "cell_type": "code",
   "execution_count": 13,
   "id": "92069cd6",
   "metadata": {
    "execution": {
     "iopub.execute_input": "2022-03-20T23:28:54.272243Z",
     "iopub.status.busy": "2022-03-20T23:28:54.263953Z",
     "iopub.status.idle": "2022-03-20T23:28:54.331602Z",
     "shell.execute_reply": "2022-03-20T23:28:54.331150Z",
     "shell.execute_reply.started": "2022-03-20T23:25:12.844296Z"
    },
    "papermill": {
     "duration": 0.118711,
     "end_time": "2022-03-20T23:28:54.331719",
     "exception": false,
     "start_time": "2022-03-20T23:28:54.213008",
     "status": "completed"
    },
    "tags": []
   },
   "outputs": [
    {
     "data": {
      "text/html": [
       "<div>\n",
       "<style scoped>\n",
       "    .dataframe tbody tr th:only-of-type {\n",
       "        vertical-align: middle;\n",
       "    }\n",
       "\n",
       "    .dataframe tbody tr th {\n",
       "        vertical-align: top;\n",
       "    }\n",
       "\n",
       "    .dataframe thead th {\n",
       "        text-align: right;\n",
       "    }\n",
       "</style>\n",
       "<table border=\"1\" class=\"dataframe\">\n",
       "  <thead>\n",
       "    <tr style=\"text-align: right;\">\n",
       "      <th></th>\n",
       "      <th>title</th>\n",
       "      <th>author</th>\n",
       "      <th>date</th>\n",
       "      <th>views</th>\n",
       "      <th>likes</th>\n",
       "      <th>link</th>\n",
       "      <th>rate_l</th>\n",
       "      <th>year</th>\n",
       "      <th>month</th>\n",
       "      <th>date_format</th>\n",
       "    </tr>\n",
       "  </thead>\n",
       "  <tbody>\n",
       "    <tr>\n",
       "      <th>5436</th>\n",
       "      <td>Do schools kill creativity?</td>\n",
       "      <td>Sir Ken Robinson</td>\n",
       "      <td>February 2006</td>\n",
       "      <td>72000000</td>\n",
       "      <td>2100000</td>\n",
       "      <td>https://ted.com/talks/sir_ken_robinson_do_scho...</td>\n",
       "      <td>0.0292</td>\n",
       "      <td>2006</td>\n",
       "      <td>2</td>\n",
       "      <td>2006-02-01</td>\n",
       "    </tr>\n",
       "    <tr>\n",
       "      <th>4084</th>\n",
       "      <td>Your body language may shape who you are</td>\n",
       "      <td>Amy Cuddy</td>\n",
       "      <td>June 2012</td>\n",
       "      <td>64000000</td>\n",
       "      <td>1900000</td>\n",
       "      <td>https://ted.com/talks/amy_cuddy_your_body_lang...</td>\n",
       "      <td>0.0297</td>\n",
       "      <td>2012</td>\n",
       "      <td>6</td>\n",
       "      <td>2012-06-01</td>\n",
       "    </tr>\n",
       "    <tr>\n",
       "      <th>2958</th>\n",
       "      <td>Inside the mind of a master procrastinator</td>\n",
       "      <td>Tim Urban</td>\n",
       "      <td>February 2016</td>\n",
       "      <td>60000000</td>\n",
       "      <td>1800000</td>\n",
       "      <td>https://ted.com/talks/tim_urban_inside_the_min...</td>\n",
       "      <td>0.0300</td>\n",
       "      <td>2016</td>\n",
       "      <td>2</td>\n",
       "      <td>2016-02-01</td>\n",
       "    </tr>\n",
       "    <tr>\n",
       "      <th>4765</th>\n",
       "      <td>How great leaders inspire action</td>\n",
       "      <td>Simon Sinek</td>\n",
       "      <td>September 2009</td>\n",
       "      <td>57000000</td>\n",
       "      <td>1700000</td>\n",
       "      <td>https://ted.com/talks/simon_sinek_how_great_le...</td>\n",
       "      <td>0.0298</td>\n",
       "      <td>2009</td>\n",
       "      <td>9</td>\n",
       "      <td>2009-09-01</td>\n",
       "    </tr>\n",
       "    <tr>\n",
       "      <th>4605</th>\n",
       "      <td>The power of vulnerability</td>\n",
       "      <td>Brené Brown</td>\n",
       "      <td>June 2010</td>\n",
       "      <td>56000000</td>\n",
       "      <td>1700000</td>\n",
       "      <td>https://ted.com/talks/brene_brown_the_power_of...</td>\n",
       "      <td>0.0304</td>\n",
       "      <td>2010</td>\n",
       "      <td>6</td>\n",
       "      <td>2010-06-01</td>\n",
       "    </tr>\n",
       "  </tbody>\n",
       "</table>\n",
       "</div>"
      ],
      "text/plain": [
       "                                           title            author  \\\n",
       "5436                 Do schools kill creativity?  Sir Ken Robinson   \n",
       "4084    Your body language may shape who you are         Amy Cuddy   \n",
       "2958  Inside the mind of a master procrastinator         Tim Urban   \n",
       "4765            How great leaders inspire action       Simon Sinek   \n",
       "4605                  The power of vulnerability       Brené Brown   \n",
       "\n",
       "                date     views    likes  \\\n",
       "5436   February 2006  72000000  2100000   \n",
       "4084       June 2012  64000000  1900000   \n",
       "2958   February 2016  60000000  1800000   \n",
       "4765  September 2009  57000000  1700000   \n",
       "4605       June 2010  56000000  1700000   \n",
       "\n",
       "                                                   link  rate_l  year  month  \\\n",
       "5436  https://ted.com/talks/sir_ken_robinson_do_scho...  0.0292  2006      2   \n",
       "4084  https://ted.com/talks/amy_cuddy_your_body_lang...  0.0297  2012      6   \n",
       "2958  https://ted.com/talks/tim_urban_inside_the_min...  0.0300  2016      2   \n",
       "4765  https://ted.com/talks/simon_sinek_how_great_le...  0.0298  2009      9   \n",
       "4605  https://ted.com/talks/brene_brown_the_power_of...  0.0304  2010      6   \n",
       "\n",
       "     date_format  \n",
       "5436  2006-02-01  \n",
       "4084  2012-06-01  \n",
       "2958  2016-02-01  \n",
       "4765  2009-09-01  \n",
       "4605  2010-06-01  "
      ]
     },
     "execution_count": 13,
     "metadata": {},
     "output_type": "execute_result"
    }
   ],
   "source": [
    "df['year'] = pd.to_datetime(df['date']).dt.year\n",
    "df['month'] = pd.to_datetime(df['date']).dt.month\n",
    "df['date_format'] = pd.to_datetime(df['date'])\n",
    "df.head(5)"
   ]
  },
  {
   "cell_type": "markdown",
   "id": "946b69db",
   "metadata": {
    "papermill": {
     "duration": 0.041686,
     "end_time": "2022-03-20T23:28:54.414873",
     "exception": false,
     "start_time": "2022-03-20T23:28:54.373187",
     "status": "completed"
    },
    "tags": []
   },
   "source": [
    "First, let see the yearly growth of the talks audience by grouping the dataset by year and sorting it"
   ]
  },
  {
   "cell_type": "code",
   "execution_count": 14,
   "id": "03eb6b23",
   "metadata": {
    "execution": {
     "iopub.execute_input": "2022-03-20T23:28:54.500446Z",
     "iopub.status.busy": "2022-03-20T23:28:54.499944Z",
     "iopub.status.idle": "2022-03-20T23:28:54.519432Z",
     "shell.execute_reply": "2022-03-20T23:28:54.519909Z",
     "shell.execute_reply.started": "2022-03-20T23:25:12.928085Z"
    },
    "papermill": {
     "duration": 0.063922,
     "end_time": "2022-03-20T23:28:54.520029",
     "exception": false,
     "start_time": "2022-03-20T23:28:54.456107",
     "status": "completed"
    },
    "tags": []
   },
   "outputs": [
    {
     "data": {
      "text/html": [
       "<div>\n",
       "<style scoped>\n",
       "    .dataframe tbody tr th:only-of-type {\n",
       "        vertical-align: middle;\n",
       "    }\n",
       "\n",
       "    .dataframe tbody tr th {\n",
       "        vertical-align: top;\n",
       "    }\n",
       "\n",
       "    .dataframe thead th {\n",
       "        text-align: right;\n",
       "    }\n",
       "</style>\n",
       "<table border=\"1\" class=\"dataframe\">\n",
       "  <thead>\n",
       "    <tr style=\"text-align: right;\">\n",
       "      <th></th>\n",
       "      <th>0</th>\n",
       "      <th>1</th>\n",
       "      <th>2</th>\n",
       "      <th>3</th>\n",
       "      <th>4</th>\n",
       "      <th>5</th>\n",
       "      <th>6</th>\n",
       "      <th>7</th>\n",
       "      <th>8</th>\n",
       "      <th>9</th>\n",
       "      <th>...</th>\n",
       "      <th>20</th>\n",
       "      <th>21</th>\n",
       "      <th>22</th>\n",
       "      <th>23</th>\n",
       "      <th>24</th>\n",
       "      <th>25</th>\n",
       "      <th>26</th>\n",
       "      <th>27</th>\n",
       "      <th>28</th>\n",
       "      <th>29</th>\n",
       "    </tr>\n",
       "  </thead>\n",
       "  <tbody>\n",
       "    <tr>\n",
       "      <th>year</th>\n",
       "      <td>2015</td>\n",
       "      <td>2013</td>\n",
       "      <td>2017</td>\n",
       "      <td>2019</td>\n",
       "      <td>2016</td>\n",
       "      <td>2014</td>\n",
       "      <td>2018</td>\n",
       "      <td>2012</td>\n",
       "      <td>2020</td>\n",
       "      <td>2011</td>\n",
       "      <td>...</td>\n",
       "      <td>2022</td>\n",
       "      <td>2001</td>\n",
       "      <td>1998</td>\n",
       "      <td>1972</td>\n",
       "      <td>1984</td>\n",
       "      <td>1990</td>\n",
       "      <td>1994</td>\n",
       "      <td>1983</td>\n",
       "      <td>1991</td>\n",
       "      <td>1970</td>\n",
       "    </tr>\n",
       "    <tr>\n",
       "      <th>views</th>\n",
       "      <td>1154739598</td>\n",
       "      <td>1062537497</td>\n",
       "      <td>998891600</td>\n",
       "      <td>948119299</td>\n",
       "      <td>928894896</td>\n",
       "      <td>824652297</td>\n",
       "      <td>811857597</td>\n",
       "      <td>803186000</td>\n",
       "      <td>635944200</td>\n",
       "      <td>575677999</td>\n",
       "      <td>...</td>\n",
       "      <td>11470000</td>\n",
       "      <td>10530000</td>\n",
       "      <td>7410000</td>\n",
       "      <td>1300000</td>\n",
       "      <td>1100000</td>\n",
       "      <td>723000</td>\n",
       "      <td>699000</td>\n",
       "      <td>690000</td>\n",
       "      <td>327000</td>\n",
       "      <td>252000</td>\n",
       "    </tr>\n",
       "    <tr>\n",
       "      <th>likes</th>\n",
       "      <td>35151746</td>\n",
       "      <td>32249916</td>\n",
       "      <td>30516328</td>\n",
       "      <td>28764575</td>\n",
       "      <td>28306782</td>\n",
       "      <td>25076665</td>\n",
       "      <td>24671493</td>\n",
       "      <td>24331209</td>\n",
       "      <td>19297014</td>\n",
       "      <td>17478900</td>\n",
       "      <td>...</td>\n",
       "      <td>341254</td>\n",
       "      <td>315100</td>\n",
       "      <td>226100</td>\n",
       "      <td>41000</td>\n",
       "      <td>33000</td>\n",
       "      <td>21000</td>\n",
       "      <td>20000</td>\n",
       "      <td>20000</td>\n",
       "      <td>9800</td>\n",
       "      <td>7500</td>\n",
       "    </tr>\n",
       "    <tr>\n",
       "      <th>count</th>\n",
       "      <td>376</td>\n",
       "      <td>388</td>\n",
       "      <td>495</td>\n",
       "      <td>544</td>\n",
       "      <td>399</td>\n",
       "      <td>357</td>\n",
       "      <td>473</td>\n",
       "      <td>302</td>\n",
       "      <td>501</td>\n",
       "      <td>271</td>\n",
       "      <td>...</td>\n",
       "      <td>20</td>\n",
       "      <td>5</td>\n",
       "      <td>6</td>\n",
       "      <td>1</td>\n",
       "      <td>1</td>\n",
       "      <td>1</td>\n",
       "      <td>1</td>\n",
       "      <td>1</td>\n",
       "      <td>1</td>\n",
       "      <td>2</td>\n",
       "    </tr>\n",
       "  </tbody>\n",
       "</table>\n",
       "<p>4 rows × 30 columns</p>\n",
       "</div>"
      ],
      "text/plain": [
       "               0           1          2          3          4          5   \\\n",
       "year         2015        2013       2017       2019       2016       2014   \n",
       "views  1154739598  1062537497  998891600  948119299  928894896  824652297   \n",
       "likes    35151746    32249916   30516328   28764575   28306782   25076665   \n",
       "count         376         388        495        544        399        357   \n",
       "\n",
       "              6          7          8          9   ...        20        21  \\\n",
       "year        2018       2012       2020       2011  ...      2022      2001   \n",
       "views  811857597  803186000  635944200  575677999  ...  11470000  10530000   \n",
       "likes   24671493   24331209   19297014   17478900  ...    341254    315100   \n",
       "count        473        302        501        271  ...        20         5   \n",
       "\n",
       "            22       23       24      25      26      27      28      29  \n",
       "year      1998     1972     1984    1990    1994    1983    1991    1970  \n",
       "views  7410000  1300000  1100000  723000  699000  690000  327000  252000  \n",
       "likes   226100    41000    33000   21000   20000   20000    9800    7500  \n",
       "count        6        1        1       1       1       1       1       2  \n",
       "\n",
       "[4 rows x 30 columns]"
      ]
     },
     "execution_count": 14,
     "metadata": {},
     "output_type": "execute_result"
    }
   ],
   "source": [
    "year = df.groupby(by=['year']).agg({'views':'sum','likes':'sum', 'title' : 'count'}).rename(columns={'title':'count'}).sort_values(by=['views'], ascending = False)\n",
    "year.reset_index(inplace=True)\n",
    "year.T"
   ]
  },
  {
   "cell_type": "markdown",
   "id": "1c6535a7",
   "metadata": {
    "papermill": {
     "duration": 0.042467,
     "end_time": "2022-03-20T23:28:54.604978",
     "exception": false,
     "start_time": "2022-03-20T23:28:54.562511",
     "status": "completed"
    },
    "tags": []
   },
   "source": [
    "We can see that before the 2000's the audience was very small, so lets plot the growth ***just starting from the 2001***"
   ]
  },
  {
   "cell_type": "code",
   "execution_count": 15,
   "id": "5c414972",
   "metadata": {
    "execution": {
     "iopub.execute_input": "2022-03-20T23:28:54.691215Z",
     "iopub.status.busy": "2022-03-20T23:28:54.690753Z",
     "iopub.status.idle": "2022-03-20T23:28:54.972401Z",
     "shell.execute_reply": "2022-03-20T23:28:54.971802Z",
     "shell.execute_reply.started": "2022-03-20T23:25:12.958375Z"
    },
    "papermill": {
     "duration": 0.325637,
     "end_time": "2022-03-20T23:28:54.972536",
     "exception": false,
     "start_time": "2022-03-20T23:28:54.646899",
     "status": "completed"
    },
    "tags": []
   },
   "outputs": [
    {
     "data": {
      "image/png": "[encoded data removed]",
      "text/plain": [
       "<Figure size 1224x288 with 1 Axes>"
      ]
     },
     "metadata": {
      "needs_background": "light"
     },
     "output_type": "display_data"
    }
   ],
   "source": [
    "plt.figure(figsize=(17,4))\n",
    "ax = sns.barplot(x='year', y='views', data = year[year.year > 2000])"
   ]
  },
  {
   "cell_type": "markdown",
   "id": "243347d5",
   "metadata": {
    "papermill": {
     "duration": 0.042493,
     "end_time": "2022-03-20T23:28:55.058945",
     "exception": false,
     "start_time": "2022-03-20T23:28:55.016452",
     "status": "completed"
    },
    "tags": []
   },
   "source": [
    "As we notice, the audience grew (not constantly) until the 2015. But, does it mean that more people start watching TED talks or its a fixed number of people that watch several talks? Maybe if we see the number of talks we could find something about it."
   ]
  },
  {
   "cell_type": "code",
   "execution_count": 16,
   "id": "8cc911ba",
   "metadata": {
    "execution": {
     "iopub.execute_input": "2022-03-20T23:28:55.154399Z",
     "iopub.status.busy": "2022-03-20T23:28:55.153791Z",
     "iopub.status.idle": "2022-03-20T23:28:55.423265Z",
     "shell.execute_reply": "2022-03-20T23:28:55.423675Z",
     "shell.execute_reply.started": "2022-03-20T23:25:13.323524Z"
    },
    "papermill": {
     "duration": 0.320474,
     "end_time": "2022-03-20T23:28:55.423819",
     "exception": false,
     "start_time": "2022-03-20T23:28:55.103345",
     "status": "completed"
    },
    "tags": []
   },
   "outputs": [
    {
     "data": {
      "image/png": "[encoded data removed]",
      "text/plain": [
       "<Figure size 1224x288 with 1 Axes>"
      ]
     },
     "metadata": {
      "needs_background": "light"
     },
     "output_type": "display_data"
    }
   ],
   "source": [
    "plt.figure(figsize=(17,4))\n",
    "ax = sns.barplot(x='year', y='count', data = year[year.year > 2000])"
   ]
  },
  {
   "cell_type": "markdown",
   "id": "3d719c3c",
   "metadata": {
    "papermill": {
     "duration": 0.044002,
     "end_time": "2022-03-20T23:28:55.512237",
     "exception": false,
     "start_time": "2022-03-20T23:28:55.468235",
     "status": "completed"
    },
    "tags": []
   },
   "source": [
    "Not a surprise, the number of talks was also growing since 2001 until 2019, from where we can see a decrease (***Beacuse Covid19? We don't know***)\n",
    "\n",
    "Even that, both plots isolated are hiding something, i guess. ***Let see the average number of views per year!*** The correlation between the number of views and the number of talks already shows that we could find a smoother behavior"
   ]
  },
  {
   "cell_type": "code",
   "execution_count": 17,
   "id": "41d202a4",
   "metadata": {
    "execution": {
     "iopub.execute_input": "2022-03-20T23:28:55.607042Z",
     "iopub.status.busy": "2022-03-20T23:28:55.606508Z",
     "iopub.status.idle": "2022-03-20T23:28:55.612804Z",
     "shell.execute_reply": "2022-03-20T23:28:55.613225Z",
     "shell.execute_reply.started": "2022-03-20T23:25:13.684622Z"
    },
    "papermill": {
     "duration": 0.056388,
     "end_time": "2022-03-20T23:28:55.613384",
     "exception": false,
     "start_time": "2022-03-20T23:28:55.556996",
     "status": "completed"
    },
    "tags": []
   },
   "outputs": [
    {
     "data": {
      "text/html": [
       "<div>\n",
       "<style scoped>\n",
       "    .dataframe tbody tr th:only-of-type {\n",
       "        vertical-align: middle;\n",
       "    }\n",
       "\n",
       "    .dataframe tbody tr th {\n",
       "        vertical-align: top;\n",
       "    }\n",
       "\n",
       "    .dataframe thead th {\n",
       "        text-align: right;\n",
       "    }\n",
       "</style>\n",
       "<table border=\"1\" class=\"dataframe\">\n",
       "  <thead>\n",
       "    <tr style=\"text-align: right;\">\n",
       "      <th></th>\n",
       "      <th>year</th>\n",
       "      <th>views</th>\n",
       "      <th>likes</th>\n",
       "      <th>count</th>\n",
       "    </tr>\n",
       "  </thead>\n",
       "  <tbody>\n",
       "    <tr>\n",
       "      <th>year</th>\n",
       "      <td>1.000000</td>\n",
       "      <td>0.679605</td>\n",
       "      <td>0.679181</td>\n",
       "      <td>0.731571</td>\n",
       "    </tr>\n",
       "    <tr>\n",
       "      <th>views</th>\n",
       "      <td>0.679605</td>\n",
       "      <td>1.000000</td>\n",
       "      <td>0.999991</td>\n",
       "      <td>0.930799</td>\n",
       "    </tr>\n",
       "    <tr>\n",
       "      <th>likes</th>\n",
       "      <td>0.679181</td>\n",
       "      <td>0.999991</td>\n",
       "      <td>1.000000</td>\n",
       "      <td>0.930745</td>\n",
       "    </tr>\n",
       "    <tr>\n",
       "      <th>count</th>\n",
       "      <td>0.731571</td>\n",
       "      <td>0.930799</td>\n",
       "      <td>0.930745</td>\n",
       "      <td>1.000000</td>\n",
       "    </tr>\n",
       "  </tbody>\n",
       "</table>\n",
       "</div>"
      ],
      "text/plain": [
       "           year     views     likes     count\n",
       "year   1.000000  0.679605  0.679181  0.731571\n",
       "views  0.679605  1.000000  0.999991  0.930799\n",
       "likes  0.679181  0.999991  1.000000  0.930745\n",
       "count  0.731571  0.930799  0.930745  1.000000"
      ]
     },
     "execution_count": 17,
     "metadata": {},
     "output_type": "execute_result"
    }
   ],
   "source": [
    "year.corr()"
   ]
  },
  {
   "cell_type": "code",
   "execution_count": 18,
   "id": "af61bcbe",
   "metadata": {
    "execution": {
     "iopub.execute_input": "2022-03-20T23:28:55.708131Z",
     "iopub.status.busy": "2022-03-20T23:28:55.707437Z",
     "iopub.status.idle": "2022-03-20T23:28:56.548587Z",
     "shell.execute_reply": "2022-03-20T23:28:56.549120Z",
     "shell.execute_reply.started": "2022-03-20T23:25:13.698889Z"
    },
    "papermill": {
     "duration": 0.892418,
     "end_time": "2022-03-20T23:28:56.549272",
     "exception": false,
     "start_time": "2022-03-20T23:28:55.656854",
     "status": "completed"
    },
    "tags": []
   },
   "outputs": [
    {
     "data": {
      "image/png": "[encoded data removed]",
      "text/plain": [
       "<Figure size 1224x432 with 1 Axes>"
      ]
     },
     "metadata": {
      "needs_background": "light"
     },
     "output_type": "display_data"
    }
   ],
   "source": [
    "plt.figure(figsize=(17,6))\n",
    "ax = sns.barplot(x='year', y='views', data = df[df.year>2000], capsize=.1)\n",
    "ax2 = sns.lineplot(x=range(0,22), y=2550000, color = 'red')"
   ]
  },
  {
   "cell_type": "markdown",
   "id": "57c086c8",
   "metadata": {
    "papermill": {
     "duration": 0.046941,
     "end_time": "2022-03-20T23:28:56.642686",
     "exception": false,
     "start_time": "2022-03-20T23:28:56.595745",
     "status": "completed"
    },
    "tags": []
   },
   "source": [
    "Ok! So, from 2008 the average number of views remained quite steady until the 2017, from where we can see a constant decrease. So, lets talk about causality: \n",
    "\n",
    "***Is the number of talks being reduced because people no longer show the same interest?*** Maybe. Some kind of competitor? The Webinars boom since Covid-19 begins? Format out?\n",
    "\n",
    "And now, only for curiosity, lets see how our ***Trending talks*** are distributed along the years."
   ]
  },
  {
   "cell_type": "code",
   "execution_count": 19,
   "id": "867583de",
   "metadata": {
    "execution": {
     "iopub.execute_input": "2022-03-20T23:28:56.739116Z",
     "iopub.status.busy": "2022-03-20T23:28:56.738373Z",
     "iopub.status.idle": "2022-03-20T23:28:57.295378Z",
     "shell.execute_reply": "2022-03-20T23:28:57.295777Z",
     "shell.execute_reply.started": "2022-03-20T23:25:14.965403Z"
    },
    "papermill": {
     "duration": 0.606414,
     "end_time": "2022-03-20T23:28:57.295913",
     "exception": false,
     "start_time": "2022-03-20T23:28:56.689499",
     "status": "completed"
    },
    "tags": []
   },
   "outputs": [
    {
     "data": {
      "image/png": "[encoded data removed]",
      "text/plain": [
       "<Figure size 1224x432 with 1 Axes>"
      ]
     },
     "metadata": {
      "needs_background": "light"
     },
     "output_type": "display_data"
    }
   ],
   "source": [
    "plt.figure(figsize=(17,6))\n",
    "ax = sns.boxplot(x='year', y='views', data = df[df.year>2000])"
   ]
  },
  {
   "cell_type": "markdown",
   "id": "5c47743b",
   "metadata": {
    "papermill": {
     "duration": 0.046239,
     "end_time": "2022-03-20T23:28:57.388482",
     "exception": false,
     "start_time": "2022-03-20T23:28:57.342243",
     "status": "completed"
    },
    "tags": []
   },
   "source": [
    "Once again it seems that from 2017 until now there are no longer ***Trending talks***, Maybe 2022 has something for us.\n",
    "\n",
    "Now, let disaggregate the date including the month:"
   ]
  },
  {
   "cell_type": "code",
   "execution_count": 20,
   "id": "a3caa302",
   "metadata": {
    "execution": {
     "iopub.execute_input": "2022-03-20T23:28:57.485538Z",
     "iopub.status.busy": "2022-03-20T23:28:57.484796Z",
     "iopub.status.idle": "2022-03-20T23:29:00.833970Z",
     "shell.execute_reply": "2022-03-20T23:29:00.834410Z",
     "shell.execute_reply.started": "2022-03-20T23:25:15.669272Z"
    },
    "papermill": {
     "duration": 3.398563,
     "end_time": "2022-03-20T23:29:00.834555",
     "exception": false,
     "start_time": "2022-03-20T23:28:57.435992",
     "status": "completed"
    },
    "tags": []
   },
   "outputs": [
    {
     "data": {
      "image/png": "[encoded data removed]",
      "text/plain": [
       "<Figure size 1224x432 with 1 Axes>"
      ]
     },
     "metadata": {
      "needs_background": "light"
     },
     "output_type": "display_data"
    }
   ],
   "source": [
    "plt.figure(figsize=(17,6))\n",
    "ax = sns.lineplot(x='date_format', y='views', data = df[df.year>2000])"
   ]
  },
  {
   "cell_type": "markdown",
   "id": "aa657543",
   "metadata": {
    "papermill": {
     "duration": 0.048931,
     "end_time": "2022-03-20T23:29:00.931919",
     "exception": false,
     "start_time": "2022-03-20T23:29:00.882988",
     "status": "completed"
    },
    "tags": []
   },
   "source": [
    "***Too much noise!!!*** Lets move to something more didactic. Is the some kind of seasonality? Does people watch more Ted talks during some periods of the year?"
   ]
  },
  {
   "cell_type": "code",
   "execution_count": 21,
   "id": "dd45f93c",
   "metadata": {
    "execution": {
     "iopub.execute_input": "2022-03-20T23:29:01.028714Z",
     "iopub.status.busy": "2022-03-20T23:29:01.028209Z",
     "iopub.status.idle": "2022-03-20T23:29:01.590779Z",
     "shell.execute_reply": "2022-03-20T23:29:01.591245Z",
     "shell.execute_reply.started": "2022-03-20T23:25:21.331691Z"
    },
    "papermill": {
     "duration": 0.612014,
     "end_time": "2022-03-20T23:29:01.591436",
     "exception": false,
     "start_time": "2022-03-20T23:29:00.979422",
     "status": "completed"
    },
    "tags": []
   },
   "outputs": [
    {
     "data": {
      "image/png": "[encoded data removed]",
      "text/plain": [
       "<Figure size 1224x432 with 1 Axes>"
      ]
     },
     "metadata": {
      "needs_background": "light"
     },
     "output_type": "display_data"
    }
   ],
   "source": [
    "plt.figure(figsize=(17,6))\n",
    "ax = sns.barplot(x='month', y='views', data = df, capsize=.1)\n",
    "ax2 = sns.lineplot(x=range(0,12), y=2370000, color = 'red')"
   ]
  },
  {
   "cell_type": "markdown",
   "id": "6fc80214",
   "metadata": {
    "papermill": {
     "duration": 0.048477,
     "end_time": "2022-03-20T23:29:01.689127",
     "exception": false,
     "start_time": "2022-03-20T23:29:01.640650",
     "status": "completed"
    },
    "tags": []
   },
   "source": [
    "***So more interesting!*** Ploting the average number of views per month with their respective Confidence Interval (95), we could say with 95% certainty that more people watch TED talks on February than the months from July to December"
   ]
  },
  {
   "cell_type": "markdown",
   "id": "053d12f3",
   "metadata": {
    "papermill": {
     "duration": 0.049357,
     "end_time": "2022-03-20T23:29:01.787881",
     "exception": false,
     "start_time": "2022-03-20T23:29:01.738524",
     "status": "completed"
    },
    "tags": []
   },
   "source": [
    "***How is it going until here??*** Are you interested on who are the most popular authors??"
   ]
  },
  {
   "cell_type": "markdown",
   "id": "452e64ef",
   "metadata": {
    "papermill": {
     "duration": 0.04751,
     "end_time": "2022-03-20T23:29:01.884211",
     "exception": false,
     "start_time": "2022-03-20T23:29:01.836701",
     "status": "completed"
    },
    "tags": []
   },
   "source": [
    "## The most popular authors"
   ]
  },
  {
   "cell_type": "markdown",
   "id": "59e8781e",
   "metadata": {
    "papermill": {
     "duration": 0.04754,
     "end_time": "2022-03-20T23:29:01.979616",
     "exception": false,
     "start_time": "2022-03-20T23:29:01.932076",
     "status": "completed"
    },
    "tags": []
   },
   "source": [
    "***Thanks for joining me and this analysis until here!***\n",
    "\n",
    "Time to start again. What about finding the author with the highest number of views?"
   ]
  },
  {
   "cell_type": "code",
   "execution_count": 22,
   "id": "b4266e90",
   "metadata": {
    "execution": {
     "iopub.execute_input": "2022-03-20T23:29:02.079842Z",
     "iopub.status.busy": "2022-03-20T23:29:02.078991Z",
     "iopub.status.idle": "2022-03-20T23:29:02.099609Z",
     "shell.execute_reply": "2022-03-20T23:29:02.100140Z",
     "shell.execute_reply.started": "2022-03-20T23:25:22.128401Z"
    },
    "papermill": {
     "duration": 0.072349,
     "end_time": "2022-03-20T23:29:02.100314",
     "exception": false,
     "start_time": "2022-03-20T23:29:02.027965",
     "status": "completed"
    },
    "tags": []
   },
   "outputs": [
    {
     "data": {
      "text/html": [
       "<div>\n",
       "<style scoped>\n",
       "    .dataframe tbody tr th:only-of-type {\n",
       "        vertical-align: middle;\n",
       "    }\n",
       "\n",
       "    .dataframe tbody tr th {\n",
       "        vertical-align: top;\n",
       "    }\n",
       "\n",
       "    .dataframe thead th {\n",
       "        text-align: right;\n",
       "    }\n",
       "</style>\n",
       "<table border=\"1\" class=\"dataframe\">\n",
       "  <thead>\n",
       "    <tr style=\"text-align: right;\">\n",
       "      <th></th>\n",
       "      <th>author</th>\n",
       "      <th>views</th>\n",
       "      <th>likes</th>\n",
       "      <th>counts</th>\n",
       "    </tr>\n",
       "  </thead>\n",
       "  <tbody>\n",
       "    <tr>\n",
       "      <th>0</th>\n",
       "      <td>Alex Gendler</td>\n",
       "      <td>187196000</td>\n",
       "      <td>5691000</td>\n",
       "      <td>45</td>\n",
       "    </tr>\n",
       "    <tr>\n",
       "      <th>1</th>\n",
       "      <td>Sir Ken Robinson</td>\n",
       "      <td>95654000</td>\n",
       "      <td>2833600</td>\n",
       "      <td>5</td>\n",
       "    </tr>\n",
       "    <tr>\n",
       "      <th>2</th>\n",
       "      <td>Bill Gates</td>\n",
       "      <td>77800000</td>\n",
       "      <td>2349000</td>\n",
       "      <td>8</td>\n",
       "    </tr>\n",
       "    <tr>\n",
       "      <th>3</th>\n",
       "      <td>Simon Sinek</td>\n",
       "      <td>74800000</td>\n",
       "      <td>2246000</td>\n",
       "      <td>3</td>\n",
       "    </tr>\n",
       "    <tr>\n",
       "      <th>4</th>\n",
       "      <td>Brené Brown</td>\n",
       "      <td>72000000</td>\n",
       "      <td>2204000</td>\n",
       "      <td>2</td>\n",
       "    </tr>\n",
       "    <tr>\n",
       "      <th>5</th>\n",
       "      <td>Julian Treasure</td>\n",
       "      <td>64300000</td>\n",
       "      <td>1870000</td>\n",
       "      <td>5</td>\n",
       "    </tr>\n",
       "    <tr>\n",
       "      <th>6</th>\n",
       "      <td>Amy Cuddy</td>\n",
       "      <td>64000000</td>\n",
       "      <td>1900000</td>\n",
       "      <td>1</td>\n",
       "    </tr>\n",
       "    <tr>\n",
       "      <th>7</th>\n",
       "      <td>Tim Urban</td>\n",
       "      <td>60000000</td>\n",
       "      <td>1800000</td>\n",
       "      <td>1</td>\n",
       "    </tr>\n",
       "    <tr>\n",
       "      <th>8</th>\n",
       "      <td>Iseult Gillespie</td>\n",
       "      <td>54998000</td>\n",
       "      <td>1660900</td>\n",
       "      <td>33</td>\n",
       "    </tr>\n",
       "    <tr>\n",
       "      <th>9</th>\n",
       "      <td>Mia Nacamulli</td>\n",
       "      <td>44174000</td>\n",
       "      <td>1395000</td>\n",
       "      <td>5</td>\n",
       "    </tr>\n",
       "  </tbody>\n",
       "</table>\n",
       "</div>"
      ],
      "text/plain": [
       "             author      views    likes  counts\n",
       "0      Alex Gendler  187196000  5691000      45\n",
       "1  Sir Ken Robinson   95654000  2833600       5\n",
       "2        Bill Gates   77800000  2349000       8\n",
       "3       Simon Sinek   74800000  2246000       3\n",
       "4       Brené Brown   72000000  2204000       2\n",
       "5   Julian Treasure   64300000  1870000       5\n",
       "6         Amy Cuddy   64000000  1900000       1\n",
       "7         Tim Urban   60000000  1800000       1\n",
       "8  Iseult Gillespie   54998000  1660900      33\n",
       "9     Mia Nacamulli   44174000  1395000       5"
      ]
     },
     "execution_count": 22,
     "metadata": {},
     "output_type": "execute_result"
    }
   ],
   "source": [
    "auth = df.groupby(by=['author']).agg({'views':'sum','likes':'sum', 'title' : 'count'}).rename(columns={'title':'counts'}).sort_values(by=['views'], ascending = False)\n",
    "auth.reset_index(inplace=True)\n",
    "auth.head(10)"
   ]
  },
  {
   "cell_type": "markdown",
   "id": "4acd5851",
   "metadata": {
    "papermill": {
     "duration": 0.076006,
     "end_time": "2022-03-20T23:29:02.227918",
     "exception": false,
     "start_time": "2022-03-20T23:29:02.151912",
     "status": "completed"
    },
    "tags": []
   },
   "source": [
    "We got them! But, it seems quite unfair to compare authors with 45 talks with authors with only one talk. So on the next step, we will start looking on the average number of views per author, and also we will classify them by the number of talks that they have.\n",
    "\n",
    "***We'll divide them between those who have only 1 talk, 2 talks and 3 or more talks***"
   ]
  },
  {
   "cell_type": "code",
   "execution_count": 23,
   "id": "9c3e6d4c",
   "metadata": {
    "execution": {
     "iopub.execute_input": "2022-03-20T23:29:02.386850Z",
     "iopub.status.busy": "2022-03-20T23:29:02.386046Z",
     "iopub.status.idle": "2022-03-20T23:29:02.407239Z",
     "shell.execute_reply": "2022-03-20T23:29:02.407821Z",
     "shell.execute_reply.started": "2022-03-20T23:25:22.156966Z"
    },
    "papermill": {
     "duration": 0.104183,
     "end_time": "2022-03-20T23:29:02.408007",
     "exception": false,
     "start_time": "2022-03-20T23:29:02.303824",
     "status": "completed"
    },
    "tags": []
   },
   "outputs": [
    {
     "data": {
      "text/html": [
       "<div>\n",
       "<style scoped>\n",
       "    .dataframe tbody tr th:only-of-type {\n",
       "        vertical-align: middle;\n",
       "    }\n",
       "\n",
       "    .dataframe tbody tr th {\n",
       "        vertical-align: top;\n",
       "    }\n",
       "\n",
       "    .dataframe thead th {\n",
       "        text-align: right;\n",
       "    }\n",
       "</style>\n",
       "<table border=\"1\" class=\"dataframe\">\n",
       "  <thead>\n",
       "    <tr style=\"text-align: right;\">\n",
       "      <th></th>\n",
       "      <th>author</th>\n",
       "      <th>views</th>\n",
       "      <th>likes</th>\n",
       "      <th>counts</th>\n",
       "      <th>3+</th>\n",
       "    </tr>\n",
       "  </thead>\n",
       "  <tbody>\n",
       "    <tr>\n",
       "      <th>0</th>\n",
       "      <td>Amy Cuddy</td>\n",
       "      <td>64000000.0</td>\n",
       "      <td>1900000</td>\n",
       "      <td>1</td>\n",
       "      <td>1</td>\n",
       "    </tr>\n",
       "    <tr>\n",
       "      <th>1</th>\n",
       "      <td>Tim Urban</td>\n",
       "      <td>60000000.0</td>\n",
       "      <td>1800000</td>\n",
       "      <td>1</td>\n",
       "      <td>1</td>\n",
       "    </tr>\n",
       "    <tr>\n",
       "      <th>2</th>\n",
       "      <td>Sam Berns</td>\n",
       "      <td>43000000.0</td>\n",
       "      <td>1300000</td>\n",
       "      <td>1</td>\n",
       "      <td>1</td>\n",
       "    </tr>\n",
       "    <tr>\n",
       "      <th>3</th>\n",
       "      <td>Robert Waldinger</td>\n",
       "      <td>41000000.0</td>\n",
       "      <td>1200000</td>\n",
       "      <td>1</td>\n",
       "      <td>1</td>\n",
       "    </tr>\n",
       "    <tr>\n",
       "      <th>4</th>\n",
       "      <td>Cameron Russell</td>\n",
       "      <td>38000000.0</td>\n",
       "      <td>1100000</td>\n",
       "      <td>1</td>\n",
       "      <td>1</td>\n",
       "    </tr>\n",
       "    <tr>\n",
       "      <th>5</th>\n",
       "      <td>Graham Shaw</td>\n",
       "      <td>37000000.0</td>\n",
       "      <td>1100000</td>\n",
       "      <td>1</td>\n",
       "      <td>1</td>\n",
       "    </tr>\n",
       "    <tr>\n",
       "      <th>6</th>\n",
       "      <td>Mary Roach</td>\n",
       "      <td>37000000.0</td>\n",
       "      <td>1100000</td>\n",
       "      <td>1</td>\n",
       "      <td>1</td>\n",
       "    </tr>\n",
       "    <tr>\n",
       "      <th>7</th>\n",
       "      <td>Brené Brown</td>\n",
       "      <td>36000000.0</td>\n",
       "      <td>2204000</td>\n",
       "      <td>2</td>\n",
       "      <td>2</td>\n",
       "    </tr>\n",
       "    <tr>\n",
       "      <th>8</th>\n",
       "      <td>Tom Thum</td>\n",
       "      <td>34000000.0</td>\n",
       "      <td>1000000</td>\n",
       "      <td>1</td>\n",
       "      <td>1</td>\n",
       "    </tr>\n",
       "    <tr>\n",
       "      <th>9</th>\n",
       "      <td>Pamela Meyer</td>\n",
       "      <td>31000000.0</td>\n",
       "      <td>953000</td>\n",
       "      <td>1</td>\n",
       "      <td>1</td>\n",
       "    </tr>\n",
       "  </tbody>\n",
       "</table>\n",
       "</div>"
      ],
      "text/plain": [
       "             author       views    likes  counts 3+\n",
       "0         Amy Cuddy  64000000.0  1900000       1  1\n",
       "1         Tim Urban  60000000.0  1800000       1  1\n",
       "2         Sam Berns  43000000.0  1300000       1  1\n",
       "3  Robert Waldinger  41000000.0  1200000       1  1\n",
       "4   Cameron Russell  38000000.0  1100000       1  1\n",
       "5       Graham Shaw  37000000.0  1100000       1  1\n",
       "6        Mary Roach  37000000.0  1100000       1  1\n",
       "7       Brené Brown  36000000.0  2204000       2  2\n",
       "8          Tom Thum  34000000.0  1000000       1  1\n",
       "9      Pamela Meyer  31000000.0   953000       1  1"
      ]
     },
     "execution_count": 23,
     "metadata": {},
     "output_type": "execute_result"
    }
   ],
   "source": [
    "auth = df.groupby(by=['author']).agg({'views':'mean','likes':'sum', 'title' : 'count'}).rename(columns={'title':'counts'}).sort_values(by=['views'], ascending = False)\n",
    "auth.reset_index(inplace=True)\n",
    "auth.loc[auth['counts'] > 2, '3+'] = '3+'\n",
    "auth.loc[auth['counts'] == 2, '3+'] = '2'\n",
    "auth.loc[auth['counts'] == 1, '3+'] = '1'\n",
    "auth.head(10)"
   ]
  },
  {
   "cell_type": "markdown",
   "id": "610ee664",
   "metadata": {
    "papermill": {
     "duration": 0.076543,
     "end_time": "2022-03-20T23:29:02.561746",
     "exception": false,
     "start_time": "2022-03-20T23:29:02.485203",
     "status": "completed"
    },
    "tags": []
   },
   "source": [
    "Bingo! a first insight! From the 10 author with the higher number of average views, only 1 has more than 1 talks. So in addition to having trending talks, Can we say that we have a large group of ***One hit wonders??***, Sorry about it.\n",
    "\n",
    "On the next step, we will save a list with the 25 authors with more than 1 talks that have the highest number of average views, we will call them our popular authors. After that, we will include the information of the number of talks to our main dataset."
   ]
  },
  {
   "cell_type": "code",
   "execution_count": 24,
   "id": "7c17ec19",
   "metadata": {
    "execution": {
     "iopub.execute_input": "2022-03-20T23:29:02.721194Z",
     "iopub.status.busy": "2022-03-20T23:29:02.720093Z",
     "iopub.status.idle": "2022-03-20T23:29:02.723814Z",
     "shell.execute_reply": "2022-03-20T23:29:02.723256Z",
     "shell.execute_reply.started": "2022-03-20T23:25:22.193349Z"
    },
    "papermill": {
     "duration": 0.084972,
     "end_time": "2022-03-20T23:29:02.723953",
     "exception": false,
     "start_time": "2022-03-20T23:29:02.638981",
     "status": "completed"
    },
    "tags": []
   },
   "outputs": [],
   "source": [
    "populars = auth[auth.counts>1].head(25)\n",
    "list_aut = populars.author.to_list()"
   ]
  },
  {
   "cell_type": "code",
   "execution_count": 25,
   "id": "1b2a32b9",
   "metadata": {
    "execution": {
     "iopub.execute_input": "2022-03-20T23:29:02.881848Z",
     "iopub.status.busy": "2022-03-20T23:29:02.881106Z",
     "iopub.status.idle": "2022-03-20T23:29:02.904098Z",
     "shell.execute_reply": "2022-03-20T23:29:02.904688Z",
     "shell.execute_reply.started": "2022-03-20T23:25:22.202198Z"
    },
    "papermill": {
     "duration": 0.104001,
     "end_time": "2022-03-20T23:29:02.904869",
     "exception": false,
     "start_time": "2022-03-20T23:29:02.800868",
     "status": "completed"
    },
    "tags": []
   },
   "outputs": [
    {
     "data": {
      "text/html": [
       "<div>\n",
       "<style scoped>\n",
       "    .dataframe tbody tr th:only-of-type {\n",
       "        vertical-align: middle;\n",
       "    }\n",
       "\n",
       "    .dataframe tbody tr th {\n",
       "        vertical-align: top;\n",
       "    }\n",
       "\n",
       "    .dataframe thead th {\n",
       "        text-align: right;\n",
       "    }\n",
       "</style>\n",
       "<table border=\"1\" class=\"dataframe\">\n",
       "  <thead>\n",
       "    <tr style=\"text-align: right;\">\n",
       "      <th></th>\n",
       "      <th>title</th>\n",
       "      <th>author</th>\n",
       "      <th>date</th>\n",
       "      <th>views</th>\n",
       "      <th>likes</th>\n",
       "      <th>link</th>\n",
       "      <th>rate_l</th>\n",
       "      <th>year</th>\n",
       "      <th>month</th>\n",
       "      <th>date_format</th>\n",
       "      <th>3+</th>\n",
       "    </tr>\n",
       "  </thead>\n",
       "  <tbody>\n",
       "    <tr>\n",
       "      <th>0</th>\n",
       "      <td>Do schools kill creativity?</td>\n",
       "      <td>Sir Ken Robinson</td>\n",
       "      <td>February 2006</td>\n",
       "      <td>72000000</td>\n",
       "      <td>2100000</td>\n",
       "      <td>https://ted.com/talks/sir_ken_robinson_do_scho...</td>\n",
       "      <td>0.0292</td>\n",
       "      <td>2006</td>\n",
       "      <td>2</td>\n",
       "      <td>2006-02-01</td>\n",
       "      <td>3+</td>\n",
       "    </tr>\n",
       "    <tr>\n",
       "      <th>1</th>\n",
       "      <td>Your body language may shape who you are</td>\n",
       "      <td>Amy Cuddy</td>\n",
       "      <td>June 2012</td>\n",
       "      <td>64000000</td>\n",
       "      <td>1900000</td>\n",
       "      <td>https://ted.com/talks/amy_cuddy_your_body_lang...</td>\n",
       "      <td>0.0297</td>\n",
       "      <td>2012</td>\n",
       "      <td>6</td>\n",
       "      <td>2012-06-01</td>\n",
       "      <td>1</td>\n",
       "    </tr>\n",
       "    <tr>\n",
       "      <th>2</th>\n",
       "      <td>Inside the mind of a master procrastinator</td>\n",
       "      <td>Tim Urban</td>\n",
       "      <td>February 2016</td>\n",
       "      <td>60000000</td>\n",
       "      <td>1800000</td>\n",
       "      <td>https://ted.com/talks/tim_urban_inside_the_min...</td>\n",
       "      <td>0.0300</td>\n",
       "      <td>2016</td>\n",
       "      <td>2</td>\n",
       "      <td>2016-02-01</td>\n",
       "      <td>1</td>\n",
       "    </tr>\n",
       "    <tr>\n",
       "      <th>3</th>\n",
       "      <td>How great leaders inspire action</td>\n",
       "      <td>Simon Sinek</td>\n",
       "      <td>September 2009</td>\n",
       "      <td>57000000</td>\n",
       "      <td>1700000</td>\n",
       "      <td>https://ted.com/talks/simon_sinek_how_great_le...</td>\n",
       "      <td>0.0298</td>\n",
       "      <td>2009</td>\n",
       "      <td>9</td>\n",
       "      <td>2009-09-01</td>\n",
       "      <td>3+</td>\n",
       "    </tr>\n",
       "    <tr>\n",
       "      <th>4</th>\n",
       "      <td>The power of vulnerability</td>\n",
       "      <td>Brené Brown</td>\n",
       "      <td>June 2010</td>\n",
       "      <td>56000000</td>\n",
       "      <td>1700000</td>\n",
       "      <td>https://ted.com/talks/brene_brown_the_power_of...</td>\n",
       "      <td>0.0304</td>\n",
       "      <td>2010</td>\n",
       "      <td>6</td>\n",
       "      <td>2010-06-01</td>\n",
       "      <td>2</td>\n",
       "    </tr>\n",
       "  </tbody>\n",
       "</table>\n",
       "</div>"
      ],
      "text/plain": [
       "                                        title            author  \\\n",
       "0                 Do schools kill creativity?  Sir Ken Robinson   \n",
       "1    Your body language may shape who you are         Amy Cuddy   \n",
       "2  Inside the mind of a master procrastinator         Tim Urban   \n",
       "3            How great leaders inspire action       Simon Sinek   \n",
       "4                  The power of vulnerability       Brené Brown   \n",
       "\n",
       "             date     views    likes  \\\n",
       "0   February 2006  72000000  2100000   \n",
       "1       June 2012  64000000  1900000   \n",
       "2   February 2016  60000000  1800000   \n",
       "3  September 2009  57000000  1700000   \n",
       "4       June 2010  56000000  1700000   \n",
       "\n",
       "                                                link  rate_l  year  month  \\\n",
       "0  https://ted.com/talks/sir_ken_robinson_do_scho...  0.0292  2006      2   \n",
       "1  https://ted.com/talks/amy_cuddy_your_body_lang...  0.0297  2012      6   \n",
       "2  https://ted.com/talks/tim_urban_inside_the_min...  0.0300  2016      2   \n",
       "3  https://ted.com/talks/simon_sinek_how_great_le...  0.0298  2009      9   \n",
       "4  https://ted.com/talks/brene_brown_the_power_of...  0.0304  2010      6   \n",
       "\n",
       "  date_format  3+  \n",
       "0  2006-02-01  3+  \n",
       "1  2012-06-01   1  \n",
       "2  2016-02-01   1  \n",
       "3  2009-09-01  3+  \n",
       "4  2010-06-01   2  "
      ]
     },
     "execution_count": 25,
     "metadata": {},
     "output_type": "execute_result"
    }
   ],
   "source": [
    "df = df.merge(auth[['author','3+']], left_on='author', right_on='author', how='left')\n",
    "df.head(5)"
   ]
  },
  {
   "cell_type": "markdown",
   "id": "c5e2ce86",
   "metadata": {
    "papermill": {
     "duration": 0.077124,
     "end_time": "2022-03-20T23:29:03.059304",
     "exception": false,
     "start_time": "2022-03-20T23:29:02.982180",
     "status": "completed"
    },
    "tags": []
   },
   "source": [
    "Now that we have the number of talks: ***Trending talks vs OHW??***"
   ]
  },
  {
   "cell_type": "code",
   "execution_count": 26,
   "id": "35fc3005",
   "metadata": {
    "execution": {
     "iopub.execute_input": "2022-03-20T23:29:03.217926Z",
     "iopub.status.busy": "2022-03-20T23:29:03.217172Z",
     "iopub.status.idle": "2022-03-20T23:29:03.387227Z",
     "shell.execute_reply": "2022-03-20T23:29:03.386632Z",
     "shell.execute_reply.started": "2022-03-20T23:25:22.241122Z"
    },
    "papermill": {
     "duration": 0.250312,
     "end_time": "2022-03-20T23:29:03.387403",
     "exception": false,
     "start_time": "2022-03-20T23:29:03.137091",
     "status": "completed"
    },
    "tags": []
   },
   "outputs": [
    {
     "data": {
      "image/png": "[encoded data removed]",
      "text/plain": [
       "<Figure size 1224x288 with 1 Axes>"
      ]
     },
     "metadata": {
      "needs_background": "light"
     },
     "output_type": "display_data"
    }
   ],
   "source": [
    "plt.figure(figsize=(17,4))\n",
    "g = sns.boxplot(x='views',y='3+',data=df)"
   ]
  },
  {
   "cell_type": "markdown",
   "id": "2f48356d",
   "metadata": {
    "papermill": {
     "duration": 0.077486,
     "end_time": "2022-03-20T23:29:03.542898",
     "exception": false,
     "start_time": "2022-03-20T23:29:03.465412",
     "status": "completed"
    },
    "tags": []
   },
   "source": [
    "Fair enough, we can find trending talks on people with 1,2 or more number of talks (Despite the number of OHW seems a little bigger).\n",
    "\n",
    "Now, lets focus on our list of popular authors. We will take a subset from our data only including those authors with 2 or more talks. (Only 825 rows)"
   ]
  },
  {
   "cell_type": "code",
   "execution_count": 27,
   "id": "7e50b2e1",
   "metadata": {
    "execution": {
     "iopub.execute_input": "2022-03-20T23:29:03.702870Z",
     "iopub.status.busy": "2022-03-20T23:29:03.702152Z",
     "iopub.status.idle": "2022-03-20T23:29:03.721592Z",
     "shell.execute_reply": "2022-03-20T23:29:03.722127Z",
     "shell.execute_reply.started": "2022-03-20T23:25:22.469767Z"
    },
    "papermill": {
     "duration": 0.100783,
     "end_time": "2022-03-20T23:29:03.722315",
     "exception": false,
     "start_time": "2022-03-20T23:29:03.621532",
     "status": "completed"
    },
    "tags": []
   },
   "outputs": [
    {
     "name": "stdout",
     "output_type": "stream",
     "text": [
      "825\n"
     ]
    },
    {
     "data": {
      "text/html": [
       "<div>\n",
       "<style scoped>\n",
       "    .dataframe tbody tr th:only-of-type {\n",
       "        vertical-align: middle;\n",
       "    }\n",
       "\n",
       "    .dataframe tbody tr th {\n",
       "        vertical-align: top;\n",
       "    }\n",
       "\n",
       "    .dataframe thead th {\n",
       "        text-align: right;\n",
       "    }\n",
       "</style>\n",
       "<table border=\"1\" class=\"dataframe\">\n",
       "  <thead>\n",
       "    <tr style=\"text-align: right;\">\n",
       "      <th></th>\n",
       "      <th>title</th>\n",
       "      <th>author</th>\n",
       "      <th>date</th>\n",
       "      <th>views</th>\n",
       "      <th>likes</th>\n",
       "      <th>link</th>\n",
       "      <th>rate_l</th>\n",
       "      <th>year</th>\n",
       "      <th>month</th>\n",
       "      <th>date_format</th>\n",
       "      <th>3+</th>\n",
       "    </tr>\n",
       "  </thead>\n",
       "  <tbody>\n",
       "    <tr>\n",
       "      <th>0</th>\n",
       "      <td>Do schools kill creativity?</td>\n",
       "      <td>Sir Ken Robinson</td>\n",
       "      <td>February 2006</td>\n",
       "      <td>72000000</td>\n",
       "      <td>2100000</td>\n",
       "      <td>https://ted.com/talks/sir_ken_robinson_do_scho...</td>\n",
       "      <td>0.0292</td>\n",
       "      <td>2006</td>\n",
       "      <td>2</td>\n",
       "      <td>2006-02-01</td>\n",
       "      <td>3+</td>\n",
       "    </tr>\n",
       "    <tr>\n",
       "      <th>1</th>\n",
       "      <td>How great leaders inspire action</td>\n",
       "      <td>Simon Sinek</td>\n",
       "      <td>September 2009</td>\n",
       "      <td>57000000</td>\n",
       "      <td>1700000</td>\n",
       "      <td>https://ted.com/talks/simon_sinek_how_great_le...</td>\n",
       "      <td>0.0298</td>\n",
       "      <td>2009</td>\n",
       "      <td>9</td>\n",
       "      <td>2009-09-01</td>\n",
       "      <td>3+</td>\n",
       "    </tr>\n",
       "    <tr>\n",
       "      <th>2</th>\n",
       "      <td>The power of vulnerability</td>\n",
       "      <td>Brené Brown</td>\n",
       "      <td>June 2010</td>\n",
       "      <td>56000000</td>\n",
       "      <td>1700000</td>\n",
       "      <td>https://ted.com/talks/brene_brown_the_power_of...</td>\n",
       "      <td>0.0304</td>\n",
       "      <td>2010</td>\n",
       "      <td>6</td>\n",
       "      <td>2010-06-01</td>\n",
       "      <td>2</td>\n",
       "    </tr>\n",
       "    <tr>\n",
       "      <th>3</th>\n",
       "      <td>How to speak so that people want to listen</td>\n",
       "      <td>Julian Treasure</td>\n",
       "      <td>June 2013</td>\n",
       "      <td>49000000</td>\n",
       "      <td>1400000</td>\n",
       "      <td>https://ted.com/talks/julian_treasure_how_to_s...</td>\n",
       "      <td>0.0286</td>\n",
       "      <td>2013</td>\n",
       "      <td>6</td>\n",
       "      <td>2013-06-01</td>\n",
       "      <td>3+</td>\n",
       "    </tr>\n",
       "    <tr>\n",
       "      <th>4</th>\n",
       "      <td>The next outbreak? We're not ready</td>\n",
       "      <td>Bill Gates</td>\n",
       "      <td>March 2015</td>\n",
       "      <td>43000000</td>\n",
       "      <td>1300000</td>\n",
       "      <td>https://ted.com/talks/bill_gates_the_next_outb...</td>\n",
       "      <td>0.0302</td>\n",
       "      <td>2015</td>\n",
       "      <td>3</td>\n",
       "      <td>2015-03-01</td>\n",
       "      <td>3+</td>\n",
       "    </tr>\n",
       "  </tbody>\n",
       "</table>\n",
       "</div>"
      ],
      "text/plain": [
       "                                        title            author  \\\n",
       "0                 Do schools kill creativity?  Sir Ken Robinson   \n",
       "1            How great leaders inspire action       Simon Sinek   \n",
       "2                  The power of vulnerability       Brené Brown   \n",
       "3  How to speak so that people want to listen   Julian Treasure   \n",
       "4          The next outbreak? We're not ready        Bill Gates   \n",
       "\n",
       "             date     views    likes  \\\n",
       "0   February 2006  72000000  2100000   \n",
       "1  September 2009  57000000  1700000   \n",
       "2       June 2010  56000000  1700000   \n",
       "3       June 2013  49000000  1400000   \n",
       "4      March 2015  43000000  1300000   \n",
       "\n",
       "                                                link  rate_l  year  month  \\\n",
       "0  https://ted.com/talks/sir_ken_robinson_do_scho...  0.0292  2006      2   \n",
       "1  https://ted.com/talks/simon_sinek_how_great_le...  0.0298  2009      9   \n",
       "2  https://ted.com/talks/brene_brown_the_power_of...  0.0304  2010      6   \n",
       "3  https://ted.com/talks/julian_treasure_how_to_s...  0.0286  2013      6   \n",
       "4  https://ted.com/talks/bill_gates_the_next_outb...  0.0302  2015      3   \n",
       "\n",
       "  date_format  3+  \n",
       "0  2006-02-01  3+  \n",
       "1  2009-09-01  3+  \n",
       "2  2010-06-01   2  \n",
       "3  2013-06-01  3+  \n",
       "4  2015-03-01  3+  "
      ]
     },
     "execution_count": 27,
     "metadata": {},
     "output_type": "execute_result"
    }
   ],
   "source": [
    "df_pop = df.loc[df['author'].isin(list_aut)]\n",
    "df_pop = df_pop.merge(populars[['author']], left_on='author', right_on='author', how='left')\n",
    "print(df_pop.size)\n",
    "df_pop.head(5)"
   ]
  },
  {
   "cell_type": "markdown",
   "id": "059d1c33",
   "metadata": {
    "papermill": {
     "duration": 0.080473,
     "end_time": "2022-03-20T23:29:03.882799",
     "exception": false,
     "start_time": "2022-03-20T23:29:03.802326",
     "status": "completed"
    },
    "tags": []
   },
   "source": [
    "Once we already have the data, what about ploting the average number of views per author? ***Maybe we could find the most popular one!***"
   ]
  },
  {
   "cell_type": "code",
   "execution_count": 28,
   "id": "d5433d6e",
   "metadata": {
    "execution": {
     "iopub.execute_input": "2022-03-20T23:29:04.046739Z",
     "iopub.status.busy": "2022-03-20T23:29:04.045962Z",
     "iopub.status.idle": "2022-03-20T23:29:05.625079Z",
     "shell.execute_reply": "2022-03-20T23:29:05.626268Z",
     "shell.execute_reply.started": "2022-03-20T23:25:22.500470Z"
    },
    "papermill": {
     "duration": 1.663561,
     "end_time": "2022-03-20T23:29:05.626492",
     "exception": false,
     "start_time": "2022-03-20T23:29:03.962931",
     "status": "completed"
    },
    "tags": []
   },
   "outputs": [
    {
     "data": {
      "text/plain": [
       "[Text(0, 0, 'Sir Ken Robinson'),\n",
       " Text(1, 0, 'Simon Sinek'),\n",
       " Text(2, 0, 'Brené Brown'),\n",
       " Text(3, 0, 'Julian Treasure'),\n",
       " Text(4, 0, 'Bill Gates'),\n",
       " Text(5, 0, 'Chimamanda Ngozi Adichie'),\n",
       " Text(6, 0, 'Elon Musk'),\n",
       " Text(7, 0, 'Jon Ronson'),\n",
       " Text(8, 0, 'Helen M. Farrell'),\n",
       " Text(9, 0, 'Elizabeth Gilbert'),\n",
       " Text(10, 0, 'Adam Grant'),\n",
       " Text(11, 0, 'Esther Perel'),\n",
       " Text(12, 0, 'Maz Jobrani'),\n",
       " Text(13, 0, 'Dan Gilbert'),\n",
       " Text(14, 0, 'Johann Hari'),\n",
       " Text(15, 0, 'Mia Nacamulli'),\n",
       " Text(16, 0, 'Hugh Herr'),\n",
       " Text(17, 0, 'Richard St. John'),\n",
       " Text(18, 0, \"Raffaello D'Andrea\"),\n",
       " Text(19, 0, 'Matt Cutts'),\n",
       " Text(20, 0, 'Guy Winch'),\n",
       " Text(21, 0, 'Andrew Solomon'),\n",
       " Text(22, 0, 'Ray Laurence'),\n",
       " Text(23, 0, 'Lisa Winer'),\n",
       " Text(24, 0, 'Murat Dalkilinç')]"
      ]
     },
     "execution_count": 28,
     "metadata": {},
     "output_type": "execute_result"
    },
    {
     "data": {
      "image/png": "[encoded data removed]",
      "text/plain": [
       "<Figure size 1296x864 with 1 Axes>"
      ]
     },
     "metadata": {
      "needs_background": "light"
     },
     "output_type": "display_data"
    }
   ],
   "source": [
    "plt.figure(figsize=(18,12))\n",
    "ax = sns.barplot(x='author', y='views', data = df_pop, capsize=.1, hue='3+', dodge = False)\n",
    "ax.set_xticklabels(ax.get_xticklabels(),rotation = 90)"
   ]
  }
 ],
 "metadata": {
  "kernelspec": {
   "display_name": "Python 3",
   "language": "python",
   "name": "python3"
  },
  "language_info": {
   "codemirror_mode": {
    "name": "ipython",
    "version": 3
   },
   "file_extension": ".py",
   "mimetype": "text/x-python",
   "name": "python",
   "nbconvert_exporter": "python",
   "pygments_lexer": "ipython3",
   "version": "3.7.12"
  },
  "papermill": {
   "default_parameters": {},
   "duration": 23.096688,
   "end_time": "2022-03-20T23:29:06.618663",
   "environment_variables": {},
   "exception": null,
   "input_path": "__notebook__.ipynb",
   "output_path": "__notebook__.ipynb",
   "parameters": {},
   "start_time": "2022-03-20T23:28:43.521975",
   "version": "2.3.3"
  }
 },
 "nbformat": 4,
 "nbformat_minor": 5
}
